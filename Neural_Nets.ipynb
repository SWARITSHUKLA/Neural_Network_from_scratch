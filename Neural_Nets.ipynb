{
 "cells": [
  {
   "cell_type": "code",
   "execution_count": null,
   "id": "2ce4ebfc",
   "metadata": {},
   "outputs": [],
   "source": [
    "import numpy as np\n",
    "import pandas as pd"
   ]
  },
  {
   "cell_type": "code",
   "execution_count": 4,
   "id": "268538f7",
   "metadata": {},
   "outputs": [],
   "source": [
    "class Neuron:\n",
    "    def __init__(self, arr_inputs):\n",
    "        self.weights = np.random.randn(arr_inputs)\n",
    "        self.bias = float(np.random.randn())\n",
    "        self.inputs = arr_inputs\n",
    "\n",
    "    def x_calc(self):\n",
    "        x = np.dot(self.weights,self.inputs) + self.bias\n",
    "        return x\n",
    "    \n",
    "    def forward_prop(self):\n",
    "        y_hat = 1 / (1 + np.exp(-(self.x_calc())))\n",
    "        return y_hat"
   ]
  },
  {
   "cell_type": "code",
   "execution_count": null,
   "id": "88c1fe5d",
   "metadata": {},
   "outputs": [],
   "source": []
  }
 ],
 "metadata": {
  "kernelspec": {
   "display_name": "Python 3",
   "language": "python",
   "name": "python3"
  },
  "language_info": {
   "codemirror_mode": {
    "name": "ipython",
    "version": 3
   },
   "file_extension": ".py",
   "mimetype": "text/x-python",
   "name": "python",
   "nbconvert_exporter": "python",
   "pygments_lexer": "ipython3",
   "version": "3.13.0"
  }
 },
 "nbformat": 4,
 "nbformat_minor": 5
}
